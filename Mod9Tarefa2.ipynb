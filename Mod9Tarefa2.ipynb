{
 "cells": [
  {
   "cell_type": "markdown",
   "metadata": {
    "id": "eYvCczy6lTt7"
   },
   "source": [
    "# Livro para consulta:\n",
    "- https://jakevdp.github.io/PythonDataScienceHandbook/03.08-aggregation-and-grouping.html\n",
    "- https://jakevdp.github.io/PythonDataScienceHandbook/03.09-pivot-tables.html\n",
    "    "
   ]
  },
  {
   "cell_type": "markdown",
   "metadata": {
    "id": "oeWprAfnlTt-"
   },
   "source": [
    "# 1. Importando bibliotecas <a name=\"import\"></a>\n",
    "\n",
    "<div style=\"text-align: right\"\n",
    "     \n",
    "[Voltar ao índice](#Contents)"
   ]
  },
  {
   "cell_type": "code",
   "execution_count": 84,
   "metadata": {
    "ExecuteTime": {
     "end_time": "2021-06-06T21:12:37.298706Z",
     "start_time": "2021-06-06T21:12:36.656481Z"
    },
    "id": "y_9gYudilTt_"
   },
   "outputs": [],
   "source": [
    "import numpy as np\n",
    "import pandas as pd\n",
    "import seaborn as sns\n",
    "import matplotlib.pyplot as plt\n",
    "\n",
    "%matplotlib inline"
   ]
  },
  {
   "cell_type": "code",
   "execution_count": null,
   "metadata": {
    "id": "1yNG4iFTlTuA"
   },
   "outputs": [],
   "source": []
  },
  {
   "cell_type": "markdown",
   "metadata": {
    "id": "-cpxC-IBlTuA"
   },
   "source": [
    "# 2. Carregando o dataframe SINASC <a name=\"read\"></a>\n",
    "<div style=\"text-align: right\"\n",
    "     \n",
    "[Voltar ao índice](#Contents)"
   ]
  },
  {
   "cell_type": "code",
   "execution_count": 183,
   "metadata": {
    "ExecuteTime": {
     "end_time": "2021-06-06T21:12:37.762376Z",
     "start_time": "2021-06-06T21:12:37.728383Z"
    },
    "id": "nQZn7u4DlTuB",
    "outputId": "74b44036-69d9-4139-b291-621d77ed331b",
    "scrolled": true
   },
   "outputs": [
    {
     "data": {
      "text/html": [
       "<div>\n",
       "<style scoped>\n",
       "    .dataframe tbody tr th:only-of-type {\n",
       "        vertical-align: middle;\n",
       "    }\n",
       "\n",
       "    .dataframe tbody tr th {\n",
       "        vertical-align: top;\n",
       "    }\n",
       "\n",
       "    .dataframe thead th {\n",
       "        text-align: right;\n",
       "    }\n",
       "</style>\n",
       "<table border=\"1\" class=\"dataframe\">\n",
       "  <thead>\n",
       "    <tr style=\"text-align: right;\">\n",
       "      <th></th>\n",
       "      <th>ORIGEM</th>\n",
       "      <th>CODESTAB</th>\n",
       "      <th>CODMUNNASC</th>\n",
       "      <th>LOCNASC</th>\n",
       "      <th>IDADEMAE</th>\n",
       "      <th>ESTCIVMAE</th>\n",
       "      <th>ESCMAE</th>\n",
       "      <th>CODOCUPMAE</th>\n",
       "      <th>QTDFILVIVO</th>\n",
       "      <th>QTDFILMORT</th>\n",
       "      <th>...</th>\n",
       "      <th>KOTELCHUCK</th>\n",
       "      <th>CONTADOR</th>\n",
       "      <th>munResStatus</th>\n",
       "      <th>munResTipo</th>\n",
       "      <th>munResNome</th>\n",
       "      <th>munResUf</th>\n",
       "      <th>munResLat</th>\n",
       "      <th>munResLon</th>\n",
       "      <th>munResAlt</th>\n",
       "      <th>munResArea</th>\n",
       "    </tr>\n",
       "  </thead>\n",
       "  <tbody>\n",
       "    <tr>\n",
       "      <th>0</th>\n",
       "      <td>1</td>\n",
       "      <td>2679477.0</td>\n",
       "      <td>110001</td>\n",
       "      <td>1</td>\n",
       "      <td>19</td>\n",
       "      <td>5.0</td>\n",
       "      <td>8 a 11 anos</td>\n",
       "      <td>NaN</td>\n",
       "      <td>0.0</td>\n",
       "      <td>0.0</td>\n",
       "      <td>...</td>\n",
       "      <td>5</td>\n",
       "      <td>1</td>\n",
       "      <td>ATIVO</td>\n",
       "      <td>MUNIC</td>\n",
       "      <td>Alta Floresta D'Oeste</td>\n",
       "      <td>Rondônia</td>\n",
       "      <td>-11.93554</td>\n",
       "      <td>-61.99982</td>\n",
       "      <td>338.0</td>\n",
       "      <td>7067.025</td>\n",
       "    </tr>\n",
       "    <tr>\n",
       "      <th>1</th>\n",
       "      <td>1</td>\n",
       "      <td>2679477.0</td>\n",
       "      <td>110001</td>\n",
       "      <td>1</td>\n",
       "      <td>29</td>\n",
       "      <td>2.0</td>\n",
       "      <td>8 a 11 anos</td>\n",
       "      <td>999992.0</td>\n",
       "      <td>1.0</td>\n",
       "      <td>0.0</td>\n",
       "      <td>...</td>\n",
       "      <td>5</td>\n",
       "      <td>2</td>\n",
       "      <td>ATIVO</td>\n",
       "      <td>MUNIC</td>\n",
       "      <td>Alta Floresta D'Oeste</td>\n",
       "      <td>Rondônia</td>\n",
       "      <td>-11.93554</td>\n",
       "      <td>-61.99982</td>\n",
       "      <td>338.0</td>\n",
       "      <td>7067.025</td>\n",
       "    </tr>\n",
       "    <tr>\n",
       "      <th>2</th>\n",
       "      <td>1</td>\n",
       "      <td>2679477.0</td>\n",
       "      <td>110001</td>\n",
       "      <td>1</td>\n",
       "      <td>37</td>\n",
       "      <td>9.0</td>\n",
       "      <td>8 a 11 anos</td>\n",
       "      <td>513205.0</td>\n",
       "      <td>2.0</td>\n",
       "      <td>0.0</td>\n",
       "      <td>...</td>\n",
       "      <td>5</td>\n",
       "      <td>3</td>\n",
       "      <td>ATIVO</td>\n",
       "      <td>MUNIC</td>\n",
       "      <td>Alta Floresta D'Oeste</td>\n",
       "      <td>Rondônia</td>\n",
       "      <td>-11.93554</td>\n",
       "      <td>-61.99982</td>\n",
       "      <td>338.0</td>\n",
       "      <td>7067.025</td>\n",
       "    </tr>\n",
       "    <tr>\n",
       "      <th>3</th>\n",
       "      <td>1</td>\n",
       "      <td>2516500.0</td>\n",
       "      <td>110001</td>\n",
       "      <td>1</td>\n",
       "      <td>30</td>\n",
       "      <td>5.0</td>\n",
       "      <td>12 anos ou mais</td>\n",
       "      <td>231205.0</td>\n",
       "      <td>0.0</td>\n",
       "      <td>0.0</td>\n",
       "      <td>...</td>\n",
       "      <td>4</td>\n",
       "      <td>4</td>\n",
       "      <td>ATIVO</td>\n",
       "      <td>MUNIC</td>\n",
       "      <td>Alto Alegre dos Parecis</td>\n",
       "      <td>Rondônia</td>\n",
       "      <td>-12.13178</td>\n",
       "      <td>-61.85308</td>\n",
       "      <td>397.0</td>\n",
       "      <td>3958.273</td>\n",
       "    </tr>\n",
       "    <tr>\n",
       "      <th>4</th>\n",
       "      <td>1</td>\n",
       "      <td>2516500.0</td>\n",
       "      <td>110001</td>\n",
       "      <td>1</td>\n",
       "      <td>30</td>\n",
       "      <td>2.0</td>\n",
       "      <td>8 a 11 anos</td>\n",
       "      <td>999992.0</td>\n",
       "      <td>1.0</td>\n",
       "      <td>0.0</td>\n",
       "      <td>...</td>\n",
       "      <td>5</td>\n",
       "      <td>5</td>\n",
       "      <td>ATIVO</td>\n",
       "      <td>MUNIC</td>\n",
       "      <td>Alta Floresta D'Oeste</td>\n",
       "      <td>Rondônia</td>\n",
       "      <td>-11.93554</td>\n",
       "      <td>-61.99982</td>\n",
       "      <td>338.0</td>\n",
       "      <td>7067.025</td>\n",
       "    </tr>\n",
       "  </tbody>\n",
       "</table>\n",
       "<p>5 rows × 69 columns</p>\n",
       "</div>"
      ],
      "text/plain": [
       "   ORIGEM   CODESTAB  CODMUNNASC  LOCNASC  IDADEMAE  ESTCIVMAE  \\\n",
       "0       1  2679477.0      110001        1        19        5.0   \n",
       "1       1  2679477.0      110001        1        29        2.0   \n",
       "2       1  2679477.0      110001        1        37        9.0   \n",
       "3       1  2516500.0      110001        1        30        5.0   \n",
       "4       1  2516500.0      110001        1        30        2.0   \n",
       "\n",
       "            ESCMAE  CODOCUPMAE  QTDFILVIVO  QTDFILMORT  ...  KOTELCHUCK  \\\n",
       "0      8 a 11 anos         NaN         0.0         0.0  ...           5   \n",
       "1      8 a 11 anos    999992.0         1.0         0.0  ...           5   \n",
       "2      8 a 11 anos    513205.0         2.0         0.0  ...           5   \n",
       "3  12 anos ou mais    231205.0         0.0         0.0  ...           4   \n",
       "4      8 a 11 anos    999992.0         1.0         0.0  ...           5   \n",
       "\n",
       "  CONTADOR munResStatus munResTipo               munResNome  munResUf  \\\n",
       "0        1        ATIVO      MUNIC    Alta Floresta D'Oeste  Rondônia   \n",
       "1        2        ATIVO      MUNIC    Alta Floresta D'Oeste  Rondônia   \n",
       "2        3        ATIVO      MUNIC    Alta Floresta D'Oeste  Rondônia   \n",
       "3        4        ATIVO      MUNIC  Alto Alegre dos Parecis  Rondônia   \n",
       "4        5        ATIVO      MUNIC    Alta Floresta D'Oeste  Rondônia   \n",
       "\n",
       "   munResLat munResLon  munResAlt  munResArea  \n",
       "0  -11.93554 -61.99982      338.0    7067.025  \n",
       "1  -11.93554 -61.99982      338.0    7067.025  \n",
       "2  -11.93554 -61.99982      338.0    7067.025  \n",
       "3  -12.13178 -61.85308      397.0    3958.273  \n",
       "4  -11.93554 -61.99982      338.0    7067.025  \n",
       "\n",
       "[5 rows x 69 columns]"
      ]
     },
     "execution_count": 183,
     "metadata": {},
     "output_type": "execute_result"
    }
   ],
   "source": [
    "sinasc_raw = pd.read_csv('SINASC_RO_2019.csv')\n",
    "sinasc_raw.head()"
   ]
  },
  {
   "cell_type": "code",
   "execution_count": null,
   "metadata": {
    "id": "Pz_6GorclTuC"
   },
   "outputs": [],
   "source": []
  },
  {
   "cell_type": "code",
   "execution_count": null,
   "metadata": {
    "id": "C7UKJm4slTuD"
   },
   "outputs": [],
   "source": []
  },
  {
   "cell_type": "code",
   "execution_count": null,
   "metadata": {
    "id": "X6JmtT08lTuD"
   },
   "outputs": [],
   "source": []
  },
  {
   "cell_type": "markdown",
   "metadata": {
    "id": "9GOoel3-lTuD"
   },
   "source": [
    "# Tarefa 2"
   ]
  },
  {
   "cell_type": "markdown",
   "metadata": {
    "id": "iNNeWswTlTuD"
   },
   "source": [
    "### 1. Crie 2 faixas de Latitude do município (munResLat) sendo uma acima e outra abaixo de -10.5 e aplique o groupby usando essas faixas como chave e realize operações de soma, media, minimo, maximo, mediana, desvio padrao, variancia pra pelo menos 2 variáveis numéricas ainda não utilizadas"
   ]
  },
  {
   "cell_type": "code",
   "execution_count": 95,
   "metadata": {},
   "outputs": [
    {
     "name": "stdout",
     "output_type": "stream",
     "text": [
      "                 Soma da Quantidade Filhos Vivos  \\\n",
      "faixa_latitude                                     \n",
      "abaixo_de_-10.5                          12600.0   \n",
      "acima_de_-10.5                           14226.0   \n",
      "\n",
      "                 Média da Quantidade Filhos Vivos  \\\n",
      "faixa_latitude                                      \n",
      "abaixo_de_-10.5                          0.980011   \n",
      "acima_de_-10.5                           1.129317   \n",
      "\n",
      "                 Mínimo da Quantidade Filhos Vivos  \\\n",
      "faixa_latitude                                       \n",
      "abaixo_de_-10.5                                0.0   \n",
      "acima_de_-10.5                                 0.0   \n",
      "\n",
      "                 Máximo da Quantidade Filhos Vivos  \\\n",
      "faixa_latitude                                       \n",
      "abaixo_de_-10.5                               30.0   \n",
      "acima_de_-10.5                                12.0   \n",
      "\n",
      "                 Mediana da Quantidade Filhos Vivos  \\\n",
      "faixa_latitude                                        \n",
      "abaixo_de_-10.5                                 1.0   \n",
      "acima_de_-10.5                                  1.0   \n",
      "\n",
      "                 Desvio Padrão da Quantidade Filhos Vivos  \\\n",
      "faixa_latitude                                              \n",
      "abaixo_de_-10.5                                  1.138300   \n",
      "acima_de_-10.5                                   1.198613   \n",
      "\n",
      "                 Variância da Quantidade Filhos Vivos  \\\n",
      "faixa_latitude                                          \n",
      "abaixo_de_-10.5                              1.295727   \n",
      "acima_de_-10.5                               1.436674   \n",
      "\n",
      "                 Soma da Quantidade de Filhos Mortos  \\\n",
      "faixa_latitude                                         \n",
      "abaixo_de_-10.5                               3105.0   \n",
      "acima_de_-10.5                                3538.0   \n",
      "\n",
      "                 Média da Quantidade de Filhos Mortos  \\\n",
      "faixa_latitude                                          \n",
      "abaixo_de_-10.5                              0.242521   \n",
      "acima_de_-10.5                               0.291770   \n",
      "\n",
      "                 Mínimo da Quantidade de Filhos Mortos  \\\n",
      "faixa_latitude                                           \n",
      "abaixo_de_-10.5                                    0.0   \n",
      "acima_de_-10.5                                     0.0   \n",
      "\n",
      "                 Máximo da Quantidade de Filhos Mortos  \\\n",
      "faixa_latitude                                           \n",
      "abaixo_de_-10.5                                   28.0   \n",
      "acima_de_-10.5                                     9.0   \n",
      "\n",
      "                 Mediana da Quantidade de Filhos Mortos  \\\n",
      "faixa_latitude                                            \n",
      "abaixo_de_-10.5                                     0.0   \n",
      "acima_de_-10.5                                      0.0   \n",
      "\n",
      "                 Desvio Padrão da Quantidade de Filhos Mortos  \\\n",
      "faixa_latitude                                                  \n",
      "abaixo_de_-10.5                                      0.599430   \n",
      "acima_de_-10.5                                       0.627856   \n",
      "\n",
      "                 Variância da Quantidade de Filhos Mortos  \n",
      "faixa_latitude                                             \n",
      "abaixo_de_-10.5                                  0.359317  \n",
      "acima_de_-10.5                                   0.394204  \n"
     ]
    }
   ],
   "source": [
    "faixa_latitude = pd.cut(sinasc_raw['munResLat'], bins=[-float('inf'), -10.5, float('inf')], labels=['abaixo_de_-10.5', 'acima_de_-10.5'])\n",
    "\n",
    "# Adicionar a nova coluna ao DataFrame\n",
    "sinasc_raw['faixa_latitude'] = faixa_latitude\n",
    "\n",
    "# Agrupar pelos faixas de latitude\n",
    "resultados = sinasc_raw.groupby('faixa_latitude', observed=False).agg(\n",
    "    soma_QTDFILVIVO=('QTDFILVIVO', 'sum'),\n",
    "    media_QTDFILVIVO=('QTDFILVIVO', 'mean'),\n",
    "    minimo_QTDFILVIVO=('QTDFILVIVO', 'min'),\n",
    "    maximo_QTDFILVIVO=('QTDFILVIVO', 'max'),\n",
    "    mediana_QTDFILVIVO=('QTDFILVIVO', 'median'),\n",
    "    desvio_padrao_QTDFILVIVO=('QTDFILVIVO', 'std'),\n",
    "    variancia_QTDFILVIVO=('QTDFILVIVO', 'var'),\n",
    "    \n",
    "    soma_QTDFILMORT=('QTDFILMORT', 'sum'),\n",
    "    media_QTDFILMORT=('QTDFILMORT', 'mean'),\n",
    "    minimo_QTDFILMORT=('QTDFILMORT', 'min'),\n",
    "    maximo_QTDFILMORT=('QTDFILMORT', 'max'),\n",
    "    mediana_QTDFILMORT=('QTDFILMORT', 'median'),\n",
    "    desvio_padrao_QTDFILMORT=('QTDFILMORT', 'std'),\n",
    "    variancia_QTDFILMORT=('QTDFILMORT', 'var')\n",
    ")\n",
    "\n",
    "# Renomear \n",
    "resultados.rename(columns={\n",
    "    'soma_QTDFILVIVO': 'Soma da Quantidade Filhos Vivos',\n",
    "    'media_QTDFILVIVO': 'Média da Quantidade Filhos Vivos',\n",
    "    'minimo_QTDFILVIVO': 'Mínimo da Quantidade Filhos Vivos',\n",
    "    'maximo_QTDFILVIVO': 'Máximo da Quantidade Filhos Vivos',\n",
    "    'mediana_QTDFILVIVO': 'Mediana da Quantidade Filhos Vivos',\n",
    "    'desvio_padrao_QTDFILVIVO': 'Desvio Padrão da Quantidade Filhos Vivos',\n",
    "    'variancia_QTDFILVIVO': 'Variância da Quantidade Filhos Vivos',\n",
    "    \n",
    "    'soma_QTDFILMORT': 'Soma da Quantidade de Filhos Mortos',\n",
    "    'media_QTDFILMORT': 'Média da Quantidade de Filhos Mortos',\n",
    "    'minimo_QTDFILMORT': 'Mínimo da Quantidade de Filhos Mortos',\n",
    "    'maximo_QTDFILMORT': 'Máximo da Quantidade de Filhos Mortos',\n",
    "    'mediana_QTDFILMORT': 'Mediana da Quantidade de Filhos Mortos',\n",
    "    'desvio_padrao_QTDFILMORT': 'Desvio Padrão da Quantidade de Filhos Mortos',\n",
    "    'variancia_QTDFILMORT': 'Variância da Quantidade de Filhos Mortos'\n",
    "}, inplace=True)\n",
    "\n",
    "print(resultados)"
   ]
  },
  {
   "cell_type": "markdown",
   "metadata": {
    "id": "AK33D0mdlTuE"
   },
   "source": [
    "### 2. Crie 2 faixas da área dos municípios (munResArea) sendo uma acima e outra abaixo de 3000 e aplique o groupby usando essas faixas como chave e realize operações de soma, media, minimo, maximo, mediana, desvio padrao, variancia pra pelo menos 2 variáveis numéricas ainda não utilizadas\n"
   ]
  },
  {
   "cell_type": "code",
   "execution_count": 98,
   "metadata": {
    "id": "qqCXJtYIlTuE"
   },
   "outputs": [
    {
     "name": "stdout",
     "output_type": "stream",
     "text": [
      "                Soma da Quantidade Filhos Vivos  \\\n",
      "faixa_area                                        \n",
      "abaixo_de_3000                           4773.0   \n",
      "acima_de_3000                           22053.0   \n",
      "\n",
      "                Média da Quantidade Filhos Vivos  \\\n",
      "faixa_area                                         \n",
      "abaixo_de_3000                          0.924284   \n",
      "acima_de_3000                           1.086890   \n",
      "\n",
      "                Mínimo da Quantidade Filhos Vivos  \\\n",
      "faixa_area                                          \n",
      "abaixo_de_3000                                0.0   \n",
      "acima_de_3000                                 0.0   \n",
      "\n",
      "                Máximo da Quantidade Filhos Vivos  \\\n",
      "faixa_area                                          \n",
      "abaixo_de_3000                               30.0   \n",
      "acima_de_3000                                14.0   \n",
      "\n",
      "                Mediana da Quantidade Filhos Vivos  \\\n",
      "faixa_area                                           \n",
      "abaixo_de_3000                                 1.0   \n",
      "acima_de_3000                                  1.0   \n",
      "\n",
      "                Desvio Padrão da Quantidade Filhos Vivos  \\\n",
      "faixa_area                                                 \n",
      "abaixo_de_3000                                  1.075442   \n",
      "acima_de_3000                                   1.191750   \n",
      "\n",
      "                Variância da Quantidade Filhos Vivos  \\\n",
      "faixa_area                                             \n",
      "abaixo_de_3000                              1.156575   \n",
      "acima_de_3000                               1.420268   \n",
      "\n",
      "                Soma do índice de KOTELCHUCK  Média do índice de KOTELCHUCK  \\\n",
      "faixa_area                                                                    \n",
      "abaixo_de_3000                         24494                       4.693236   \n",
      "acima_de_3000                         109968                       5.042553   \n",
      "\n",
      "                Mínimo do índice de KOTELCHUCK  \\\n",
      "faixa_area                                       \n",
      "abaixo_de_3000                               1   \n",
      "acima_de_3000                                1   \n",
      "\n",
      "                Máximo do índice de KOTELCHUCK  \\\n",
      "faixa_area                                       \n",
      "abaixo_de_3000                               9   \n",
      "acima_de_3000                                9   \n",
      "\n",
      "                Mediana do índice de KOTELCHUCK  \\\n",
      "faixa_area                                        \n",
      "abaixo_de_3000                              5.0   \n",
      "acima_de_3000                               5.0   \n",
      "\n",
      "                Desvio Padrão do índice de KOTELCHUCK  \\\n",
      "faixa_area                                              \n",
      "abaixo_de_3000                               1.456135   \n",
      "acima_de_3000                                2.182659   \n",
      "\n",
      "                Variância do índice de KOTELCHUCK  \n",
      "faixa_area                                         \n",
      "abaixo_de_3000                           2.120328  \n",
      "acima_de_3000                            4.763998  \n"
     ]
    }
   ],
   "source": [
    "faixa_area = pd.cut(sinasc_raw['munResArea'], bins=[-float('inf'), 3000, float('inf')], labels=['abaixo_de_3000', 'acima_de_3000'])\n",
    "\n",
    "sinasc_raw['faixa_area'] = faixa_area\n",
    "\n",
    "resultados = sinasc_raw.groupby('faixa_area', observed=False).agg(\n",
    "    soma_QTDFILVIVO=('QTDFILVIVO', 'sum'),\n",
    "    media_QTDFILVIVO=('QTDFILVIVO', 'mean'),\n",
    "    minimo_QTDFILVIVO=('QTDFILVIVO', 'min'),\n",
    "    maximo_QTDFILVIVO=('QTDFILVIVO', 'max'),\n",
    "    mediana_QTDFILVIVO=('QTDFILVIVO', 'median'),\n",
    "    desvio_padrao_QTDFILVIVO=('QTDFILVIVO', 'std'),\n",
    "    variancia_QTDFILVIVO=('QTDFILVIVO', 'var'),\n",
    "    \n",
    "    soma_KOTELCHUCK=('KOTELCHUCK', 'sum'),\n",
    "    media_KOTELCHUCK=('KOTELCHUCK', 'mean'),\n",
    "    minimo_KOTELCHUCK=('KOTELCHUCK', 'min'),\n",
    "    maximo_KOTELCHUCK=('KOTELCHUCK', 'max'),\n",
    "    mediana_KOTELCHUCK=('KOTELCHUCK', 'median'),\n",
    "    desvio_padrao_KOTELCHUCK=('KOTELCHUCK', 'std'),\n",
    "    variancia_KOTELCHUCK=('KOTELCHUCK', 'var')\n",
    ")\n",
    "\n",
    "# Renomear \n",
    "resultados.rename(columns={\n",
    "    'soma_QTDFILVIVO': 'Soma da Quantidade Filhos Vivos',\n",
    "    'media_QTDFILVIVO': 'Média da Quantidade Filhos Vivos',\n",
    "    'minimo_QTDFILVIVO': 'Mínimo da Quantidade Filhos Vivos',\n",
    "    'maximo_QTDFILVIVO': 'Máximo da Quantidade Filhos Vivos',\n",
    "    'mediana_QTDFILVIVO': 'Mediana da Quantidade Filhos Vivos',\n",
    "    'desvio_padrao_QTDFILVIVO': 'Desvio Padrão da Quantidade Filhos Vivos',\n",
    "    'variancia_QTDFILVIVO': 'Variância da Quantidade Filhos Vivos',\n",
    "    \n",
    "    'soma_KOTELCHUCK': 'Soma do índice de KOTELCHUCK',\n",
    "    'media_KOTELCHUCK': 'Média do índice de KOTELCHUCK',\n",
    "    'minimo_KOTELCHUCK': 'Mínimo do índice de KOTELCHUCK',\n",
    "    'maximo_KOTELCHUCK': 'Máximo do índice de KOTELCHUCK',\n",
    "    'mediana_KOTELCHUCK': 'Mediana do índice de KOTELCHUCK',\n",
    "    'desvio_padrao_KOTELCHUCK': 'Desvio Padrão do índice de KOTELCHUCK',\n",
    "    'variancia_KOTELCHUCK': 'Variância do índice de KOTELCHUCK'\n",
    "}, inplace=True)\n",
    "\n",
    "print(resultados)"
   ]
  },
  {
   "cell_type": "markdown",
   "metadata": {
    "id": "aWaljnnxlTuE"
   },
   "source": [
    "### 3. Determine faixas na variável munResAlt e aplique o groupby usando essas faixas como chave e realize operações de soma, media, minimo, maximo, mediana, desvio padrao, variancia pra pelo menos 2 variáveis numéricas ainda não utilizadas"
   ]
  },
  {
   "cell_type": "code",
   "execution_count": 101,
   "metadata": {},
   "outputs": [
    {
     "name": "stdout",
     "output_type": "stream",
     "text": [
      "                Soma QTDFILMORT  Média QTDFILMORT  Mínimo QTDFILMORT  \\\n",
      "faixa_area                                                             \n",
      "abaixo_de_3000           1260.0          0.244803                0.0   \n",
      "acima_de_3000            5383.0          0.272116                0.0   \n",
      "\n",
      "                Máximo QTDFILMORT  Mediana QTDFILMORT  \\\n",
      "faixa_area                                              \n",
      "abaixo_de_3000                4.0                 0.0   \n",
      "acima_de_3000                28.0                 0.0   \n",
      "\n",
      "                Desvio Padrão QTDFILMORT  Variância QTDFILMORT  \\\n",
      "faixa_area                                                       \n",
      "abaixo_de_3000                  0.551215              0.303838   \n",
      "acima_de_3000                   0.629081              0.395743   \n",
      "\n",
      "                Soma KOTELCHUCK  Média KOTELCHUCK  Mínimo KOTELCHUCK  \\\n",
      "faixa_area                                                             \n",
      "abaixo_de_3000            24494          4.693236                  1   \n",
      "acima_de_3000            109968          5.042553                  1   \n",
      "\n",
      "                Máximo KOTELCHUCK  Mediana KOTELCHUCK  \\\n",
      "faixa_area                                              \n",
      "abaixo_de_3000                  9                 5.0   \n",
      "acima_de_3000                   9                 5.0   \n",
      "\n",
      "                Desvio Padrão KOTELCHUCK  Variância KOTELCHUCK  \n",
      "faixa_area                                                      \n",
      "abaixo_de_3000                  1.456135              2.120328  \n",
      "acima_de_3000                   2.182659              4.763998  \n"
     ]
    }
   ],
   "source": [
    "faixa_area = pd.cut(sinasc_raw['munResArea'], bins=[-float('inf'), 3000, float('inf')], labels=['abaixo_de_3000', 'acima_de_3000'])\n",
    "\n",
    "sinasc_raw['faixa_area'] = faixa_area\n",
    "\n",
    "resultados = sinasc_raw.groupby('faixa_area', observed=False).agg(\n",
    "    soma_QTDFILMORT=('QTDFILMORT', 'sum'),\n",
    "    media_QTDFILMORT=('QTDFILMORT', 'mean'),\n",
    "    minimo_QTDFILMORT=('QTDFILMORT', 'min'),\n",
    "    maximo_QTDFILMORT=('QTDFILMORT', 'max'),\n",
    "    mediana_QTDFILMORT=('QTDFILMORT', 'median'),\n",
    "    desvio_padrao_QTDFILMORT=('QTDFILMORT', 'std'),\n",
    "    variancia_QTDFILMORT=('QTDFILMORT', 'var'),\n",
    "    \n",
    "    soma_KOTELCHUCK=('KOTELCHUCK', 'sum'),\n",
    "    media_KOTELCHUCK=('KOTELCHUCK', 'mean'),\n",
    "    minimo_KOTELCHUCK=('KOTELCHUCK', 'min'),\n",
    "    maximo_KOTELCHUCK=('KOTELCHUCK', 'max'),\n",
    "    mediana_KOTELCHUCK=('KOTELCHUCK', 'median'),\n",
    "    desvio_padrao_KOTELCHUCK=('KOTELCHUCK', 'std'),\n",
    "    variancia_KOTELCHUCK=('KOTELCHUCK', 'var')\n",
    ")\n",
    "\n",
    "resultados.rename(columns={\n",
    "    'soma_QTDFILMORT': 'Soma QTDFILMORT',\n",
    "    'media_QTDFILMORT': 'Média QTDFILMORT',\n",
    "    'minimo_QTDFILMORT': 'Mínimo QTDFILMORT',\n",
    "    'maximo_QTDFILMORT': 'Máximo QTDFILMORT',\n",
    "    'mediana_QTDFILMORT': 'Mediana QTDFILMORT',\n",
    "    'desvio_padrao_QTDFILMORT': 'Desvio Padrão QTDFILMORT',\n",
    "    'variancia_QTDFILMORT': 'Variância QTDFILMORT',\n",
    "    \n",
    "    'soma_KOTELCHUCK': 'Soma KOTELCHUCK',\n",
    "    'media_KOTELCHUCK': 'Média KOTELCHUCK',\n",
    "    'minimo_KOTELCHUCK': 'Mínimo KOTELCHUCK',\n",
    "    'maximo_KOTELCHUCK': 'Máximo KOTELCHUCK',\n",
    "    'mediana_KOTELCHUCK': 'Mediana KOTELCHUCK',\n",
    "    'desvio_padrao_KOTELCHUCK': 'Desvio Padrão KOTELCHUCK',\n",
    "    'variancia_KOTELCHUCK': 'Variância KOTELCHUCK'\n",
    "}, inplace=True)\n",
    "\n",
    "print(resultados)\n"
   ]
  },
  {
   "cell_type": "markdown",
   "metadata": {
    "id": "aF1riawJlTuF"
   },
   "source": [
    "### 4. Plote no mesmo grafico ao longo do tempo a idade media das mulheres de cada regiao imediatas de rondonia\n"
   ]
  },
  {
   "cell_type": "code",
   "execution_count": 103,
   "metadata": {
    "id": "6aZM5xKale9c"
   },
   "outputs": [],
   "source": [
    "imediatas = {\n",
    "    \"Candeias do Jamari\": \"Porto Velho\",\n",
    "    \"Guajará-Mirim\": \"Porto Velho\",\n",
    "    \"Itapuã do Oeste\": \"Porto Velho\",\n",
    "    \"Nova Mamoré\": \"Porto Velho\",\n",
    "    \"Porto Velho\": \"Porto Velho\",\n",
    "    \"Ariquemes\": \"Ariquemes\",\n",
    "    \"Alto Paraíso\": \"Ariquemes\",\n",
    "    \"Buritis\": \"Ariquemes\",\n",
    "    \"Cacaulândia\": \"Ariquemes\",\n",
    "    \"Campo Novo de Rondônia\": \"Ariquemes\",\n",
    "    \"Cujubim\": \"Ariquemes\",\n",
    "    \"Monte Negro\": \"Ariquemes\",\n",
    "    \"Rio Crespo\": \"Ariquemes\",\n",
    "    \"Jaru\": \"Jaru\",\n",
    "    \"Governador Jorge Teixeira\": \"Jaru\",\n",
    "    \"Machadinho D'Oeste\": \"Jaru\",\n",
    "    \"Theobroma\": \"Jaru\",\n",
    "    \"Vale do Anari\": \"Jaru\",\n",
    "    \"Alvorada D'Oeste\": \"Ji-Paraná\",\n",
    "    \"Costa Marques\": \"Ji-Paraná\",\n",
    "    \"Ji-Paraná\": \"Ji-Paraná\",\n",
    "    \"Mirante da Serra\": \"Ji-Paraná\",\n",
    "    \"Nova União\": \"Ji-Paraná\",\n",
    "    \"Ouro Preto do Oeste\": \"Ji-Paraná\",\n",
    "    \"Presidente Médici\": \"Ji-Paraná\",\n",
    "    \"São Francisco do Guaporé\": \"Ji-Paraná\",\n",
    "    \"São Miguel do Guaporé\": \"Ji-Paraná\",\n",
    "    \"Seringueiras\": \"Ji-Paraná\",\n",
    "    \"Teixeirópolis\": \"Ji-Paraná\",\n",
    "    \"Urupá\": \"Ji-Paraná\",\n",
    "    \"Vale do Paraíso\": \"Ji-Paraná\",\n",
    "    \"Cacoal\": \"Cacoal\",\n",
    "    \"Alta Floresta D'Oeste\": \"Cacoal\",\n",
    "    \"Alto Alegre dos Parecis\": \"Cacoal\",\n",
    "    \"Castanheiras\": \"Cacoal\",\n",
    "    \"Espigão D'Oeste\": \"Cacoal\",\n",
    "    \"Ministro Andreazza\": \"Cacoal\",\n",
    "    \"Nova Brasilândia D'Oeste\": \"Cacoal\",\n",
    "    \"Novo Horizonte do Oeste\": \"Cacoal\",\n",
    "    \"Parecis\": \"Cacoal\",\n",
    "    \"Pimenta Bueno\": \"Cacoal\",\n",
    "    \"Primavera de Rondônia\": \"Cacoal\",\n",
    "    \"Rolim de Moura\": \"Cacoal\",\n",
    "    \"Santa Luzia D'Oeste\": \"Cacoal\",\n",
    "    \"São Felipe D'Oeste\": \"Cacoal\",\n",
    "    \"Vilhena\": \"Vilhena\",\n",
    "    \"Cabixi\": \"Vilhena\",\n",
    "    \"Cerejeiras\": \"Vilhena\",\n",
    "    \"Chupinguaia\": \"Vilhena\",\n",
    "    \"Colorado do Oeste\": \"Vilhena\",\n",
    "    \"Corumbiara\": \"Vilhena\",\n",
    "    \"Pimenteiras do Oeste\": \"Vilhena\"\n",
    "}"
   ]
  },
  {
   "cell_type": "markdown",
   "metadata": {
    "id": "yt-LIWxblTuF"
   },
   "source": [
    "### 5. Utilize a tabela do link abaixo e crie faixas utilizando o mapping e gere agrupamentos utilizando essas faixas como chave\n"
   ]
  },
  {
   "cell_type": "markdown",
   "metadata": {
    "id": "moZakjgIlTuF"
   },
   "source": [
    "### 5.1 IDH\n",
    "A - https://pt.wikipedia.org/wiki/Lista_de_munic%C3%ADpios_de_Rond%C3%B4nia_por_IDH-M\n"
   ]
  },
  {
   "cell_type": "code",
   "execution_count": 191,
   "metadata": {},
   "outputs": [
    {
     "name": "stdout",
     "output_type": "stream",
     "text": [
      "            IDADEMAE   IDADEPAI\n",
      "IDH                            \n",
      "IDH alto   26.280332  31.074091\n",
      "IDH baixo  25.269231  30.402332\n",
      "IDH médio  25.848191  31.570029\n"
     ]
    }
   ],
   "source": [
    "sinasc_2 = sinasc_raw[['munResNome', 'IDADEMAE', 'IDADEPAI']]\n",
    "sinasc_3 = sinasc_2.set_index('munResNome')\n",
    "\n",
    "idh_mapping = {\n",
    "    'IDH alto': ['Porto Velho', 'Vilhena', 'Cacoal', 'Ji-Paraná', 'Pimenta Bueno', 'Ariquemes', 'Rolim de Moura'],\n",
    "    'IDH médio': ['Cerejeiras', 'Jaru', 'Colorado do Oeste', 'Ouro Preto do Oeste', 'Espigão d\\'Oeste',\n",
    "                  'Santa Luzia d\\'Oeste', 'Pimenteiras do Oeste', 'Presidente Médici', 'Castanheiras',\n",
    "                  'Guajará-Mirim', 'Chupinguaia', 'Cabixi', 'Candeias do Jamari', 'São Felipe d\\'Oeste',\n",
    "                  'Cacaulândia', 'São Miguel do Guaporé', 'Mirante da Serra', 'Alvorada d\\'Oeste',\n",
    "                  'Teixeirópolis', 'Nova Brasilândia d\\'Oeste', 'Rio Crespo', 'Primavera de Rondônia',\n",
    "                  'Alta Floresta d\\'Oeste', 'Ministro Andreazza', 'Novo Horizonte do Oeste', 'Vale do Paraíso',\n",
    "                  'Alto Paraíso', 'Parecis', 'Buritis', 'Itapuã do Oeste', 'Corumbiara', 'Cujubim',\n",
    "                  'Costa Marques', 'São Francisco do Guaporé', 'Urupá', 'Monte Negro'],\n",
    "    'IDH baixo': ['Seringueiras', 'Governador Jorge Teixeira', 'Machadinho d\\'Oeste', 'Campo Novo de Rondônia',\n",
    "                  'Alto Alegre dos Parecis', 'Theobroma', 'Nova União', 'Nova Mamoré', 'Vale do Anari']\n",
    "}\n",
    "\n",
    "sinasc_3['IDH'] = sinasc_3.index.map(lambda x: next((idh for idh, municipios in idh_mapping.items() if x in municipios), None))\n",
    "\n",
    "media_idade = sinasc_3.groupby('IDH')[['IDADEMAE', 'IDADEPAI']].mean()\n",
    "\n",
    "print(media_idade)\n"
   ]
  },
  {
   "cell_type": "markdown",
   "metadata": {
    "id": "zhtI6CxtlTuH"
   },
   "source": [
    "### 5.2 IFDM\n",
    "B - https://pt.wikipedia.org/wiki/Lista_de_munic%C3%ADpios_de_Rond%C3%B4nia_por_IFDM\n"
   ]
  },
  {
   "cell_type": "code",
   "execution_count": 199,
   "metadata": {
    "id": "1AVkd1M3lTuI"
   },
   "outputs": [
    {
     "name": "stdout",
     "output_type": "stream",
     "text": [
      "                           IDADEMAE   IDADEPAI\n",
      "Desenvolvimento                               \n",
      "Desenvolvimento moderado  26.226921  31.145206\n",
      "Desenvolvimento regular   25.412005  31.345297\n"
     ]
    }
   ],
   "source": [
    "sinasc_2 = sinasc_raw[['munResNome', 'IDADEMAE', 'IDADEPAI']]\n",
    "sinasc_3 = sinasc_2.set_index('munResNome')\n",
    "\n",
    "# Mapeamento do Índice de Desenvolvimento\n",
    "desenvolvimento_mapping = {\n",
    "    'Desenvolvimento moderado': ['Ariquemes', 'Vilhena', 'Pimenta Bueno', 'Porto Velho', 'Ji-Paraná', 'Cacoal', \n",
    "                                  'Santa Luzia d\\'Oeste', 'Rolim de Moura', 'Chupinguaia', 'São Miguel do Guaporé', \n",
    "                                  'Pimenteiras do Oeste', 'Teixeirópolis', 'Colorado do Oeste', 'Jaru', \n",
    "                                  'Rio Crespo', 'Primavera de Rondônia', 'Alta Floresta d\\'Oeste', \n",
    "                                  'Ouro Preto do Oeste', 'São Francisco do Guaporé', 'Candeias do Jamari', \n",
    "                                  'Buritis', 'São Felipe d\\'Oeste', 'Presidente Médici', 'Cerejeiras', \n",
    "                                  'Monte Negro', 'Urupá'],\n",
    "    'Desenvolvimento regular': ['Espigão d\\'Oeste', 'Seringueiras', 'Alvorada d\\'Oeste', 'Itapuã do Oeste', \n",
    "                                'Cabixi', 'Novo Horizonte do Oeste', 'Nova Brasilândia d\\'Oeste', \n",
    "                                'Vale do Paraíso', 'Corumbiara', 'Alto Paraíso', 'Cacaulândia', \n",
    "                                'Vale do Anari', 'Ministro Andreazza', 'Costa Marques', 'Nova União', \n",
    "                                'Guajará-Mirim', 'Mirante da Serra', 'Parecis', 'Castanheiras', \n",
    "                                'Theobroma', 'Machadinho d\\'Oeste', 'Campo Novo de Rondônia', \n",
    "                                'Nova Mamoré', 'Cujubim', 'Alto Alegre dos Parecis', \n",
    "                                'Governador Jorge Teixeira'],\n",
    "    'Desenvolvimento alto': [],\n",
    "    'Desenvolvimento baixo': []\n",
    "}\n",
    "\n",
    "sinasc_3['Desenvolvimento'] = sinasc_3.index.map(lambda x: next((des for des, municipios in desenvolvimento_mapping.items() if x in municipios), None))\n",
    "\n",
    "media_idade_desenvolvimento = sinasc_3.groupby('Desenvolvimento')[['IDADEMAE', 'IDADEPAI']].mean()\n",
    "\n",
    "print(media_idade_desenvolvimento)\n"
   ]
  },
  {
   "cell_type": "markdown",
   "metadata": {
    "id": "BwdS46EWlTuI"
   },
   "source": [
    "### 5.3 PIB\n",
    "C - https://pt.wikipedia.org/wiki/Lista_de_munic%C3%ADpios_de_Rond%C3%B4nia_por_PIB\n"
   ]
  },
  {
   "cell_type": "code",
   "execution_count": 197,
   "metadata": {},
   "outputs": [
    {
     "name": "stdout",
     "output_type": "stream",
     "text": [
      "                       IDADEMAE   IDADEPAI\n",
      "PIB                                       \n",
      "Acima de 1 Bilhão     26.265562  31.108387\n",
      "Acima de 100 Milhões  25.638424  31.744348\n",
      "Acima de 200 Milhões  25.146435  30.187500\n",
      "Acima de 300 Milhões  25.706070  30.819149\n",
      "Acima de 500 Milhões  25.785927  31.381955\n",
      "Até 100 Milhões       26.519894  31.626126\n"
     ]
    }
   ],
   "source": [
    "sinasc_2 = sinasc_raw[['munResNome', 'IDADEMAE', 'IDADEPAI']]\n",
    "sinasc_3 = sinasc_2.set_index('munResNome')\n",
    "\n",
    "# Mapeamento do PIB\n",
    "pib_mapping = {\n",
    "    'Acima de 1 Bilhão': ['Porto Velho', 'Ji-Paraná', 'Vilhena', 'Ariquemes', 'Cacoal', 'Jaru', 'Rolim de Moura', 'Pimenta Bueno'],\n",
    "    'Acima de 500 Milhões': ['Guajará-Mirim', 'Ouro Preto do Oeste', 'Buritis', 'Machadinho do Oeste', 'Espigão d\\'Oeste', \n",
    "                             'São Miguel do Guaporé', 'Candeias do Jamari', 'Nova Mamoré', 'Cerejeiras'],\n",
    "    'Acima de 300 Milhões': ['Alta Floresta do Oeste', 'Presidente Médici', 'Cujubim', 'Nova Brasilândia do Oeste', \n",
    "                             'Alto Paraíso', 'São Francisco do Guaporé', 'Colorado do Oeste'],\n",
    "    'Acima de 200 Milhões': ['Monte Negro', 'Alto Alegre dos Parecis', 'Campo Novo de Rondônia', 'Alvorada do Oeste'],\n",
    "    'Acima de 100 Milhões': ['Chupinguaia', 'Corumbiara', 'Ministro Andreazza', 'Urupá', 'Costa Marques', \n",
    "                             'Seringueiras', 'Mirante da Serra', 'Governador Jorge Teixeira', 'Theobroma', \n",
    "                             'Santa Luzia do Oeste', 'Novo Horizonte do Oeste', 'Itapuã do Oeste', \n",
    "                             'Vale do Paraíso', 'Cacaulândia', 'Cabixi', 'Vale do Anari'],\n",
    "    'Até 100 Milhões': ['Nova União', 'Parecis', 'Rio Crespo', 'Pimenteiras do Oeste', 'Teixeirópolis', \n",
    "                        'São Felipe do Oeste', 'Castanheiras', 'Primavera de Rondônia']\n",
    "}\n",
    "\n",
    "sinasc_3['PIB'] = sinasc_3.index.map(lambda x: next((pib for pib, municipios in pib_mapping.items() if x in municipios), None))\n",
    "\n",
    "media_idade_pib = sinasc_3.groupby('PIB')[['IDADEMAE', 'IDADEPAI']].mean()\n",
    "\n",
    "print(media_idade_pib)"
   ]
  },
  {
   "cell_type": "markdown",
   "metadata": {
    "id": "bdWGW_xtlTuI"
   },
   "source": [
    "### Analise as respostas encontradas, tire algum insight delas, conte pra gente algo encontrado nos dados."
   ]
  },
  {
   "cell_type": "markdown",
   "metadata": {
    "id": "shZvokfBlTuI"
   },
   "source": [
    "Descobri que a média da idade dos pais não sofrem grandes influências do IDH, IFDM e PIB"
   ]
  },
  {
   "cell_type": "code",
   "execution_count": null,
   "metadata": {
    "id": "f8P7BYYglTuJ"
   },
   "outputs": [],
   "source": []
  }
 ],
 "metadata": {
  "colab": {
   "provenance": []
  },
  "kernelspec": {
   "display_name": "Python 3 (ipykernel)",
   "language": "python",
   "name": "python3"
  },
  "language_info": {
   "codemirror_mode": {
    "name": "ipython",
    "version": 3
   },
   "file_extension": ".py",
   "mimetype": "text/x-python",
   "name": "python",
   "nbconvert_exporter": "python",
   "pygments_lexer": "ipython3",
   "version": "3.12.4"
  },
  "varInspector": {
   "cols": {
    "lenName": 16,
    "lenType": 16,
    "lenVar": 40
   },
   "kernels_config": {
    "python": {
     "delete_cmd_postfix": "",
     "delete_cmd_prefix": "del ",
     "library": "var_list.py",
     "varRefreshCmd": "print(var_dic_list())"
    },
    "r": {
     "delete_cmd_postfix": ") ",
     "delete_cmd_prefix": "rm(",
     "library": "var_list.r",
     "varRefreshCmd": "cat(var_dic_list()) "
    }
   },
   "types_to_exclude": [
    "module",
    "function",
    "builtin_function_or_method",
    "instance",
    "_Feature"
   ],
   "window_display": false
  }
 },
 "nbformat": 4,
 "nbformat_minor": 4
}
